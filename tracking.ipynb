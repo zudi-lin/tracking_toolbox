{
 "cells": [
  {
   "cell_type": "code",
   "execution_count": null,
   "metadata": {},
   "outputs": [],
   "source": [
    "import time\n",
    "import numpy as np\n",
    "import skvideo.io\n",
    "from matplotlib import pyplot as plt\n",
    "from skimage.color import rgb2gray\n",
    "from skimage.measure import label\n",
    "from skimage.morphology import remove_small_objects, erosion, dilation, disk\n",
    "\n",
    "# Ignore warnings for simplicity\n",
    "import warnings\n",
    "warnings.filterwarnings('ignore')\n",
    "\n",
    "from trackbox import *"
   ]
  },
  {
   "cell_type": "markdown",
   "metadata": {},
   "source": [
    "### 0. Load the video\n",
    "* Change `filename = \"name_of_video.wmv\"` to the **name of your own video**.\n",
    "* Change `\"subsample\": 1` to `n` to speed-up the video by `n` times.\n",
    "* Change `\"start\"` and `\"end\"` to the MM:SS format (e.g., `\"3:11\"`) to trim the video."
   ]
  },
  {
   "cell_type": "code",
   "execution_count": null,
   "metadata": {},
   "outputs": [],
   "source": [
    "filename = \"name_of_video.wmv\"\n",
    "filename = \"../../../Desktop/Read/sn-2xtg-female-1.wmv\"\n",
    "height, width = 28, 65 # height and width of the chamber in cm\n",
    "kwargs = {\n",
    "    \"subsample\": 2,   # subsampling ratio of the video\n",
    "    \"start\": \"0:25\",  # start time of the trimmed video \n",
    "    \"end\": \"5:25\",    # end time of the trimmed video \n",
    "}\n",
    "video, video_gray, frame_rate = load_video(filename, **kwargs)\n",
    "show_rand_imgs(video, 3)\n",
    "show_rand_imgs(video_gray, 3, 'gray')"
   ]
  },
  {
   "cell_type": "markdown",
   "metadata": {},
   "source": [
    "### 0.1 Crop the video (*optional*)\n",
    "\n",
    "* If you do **Not** want to crop the video, skip the following two cells.\n",
    "* If you want to interactively crop the video: \n",
    "    1. Run the first cell.\n",
    "    2. Draw a rectangle on the image shown below.\n",
    "    3. Click the *stop* button to disable interaction.\n",
    "    4. Run the next cell."
   ]
  },
  {
   "cell_type": "code",
   "execution_count": null,
   "metadata": {},
   "outputs": [],
   "source": [
    "# If you do **not** want to crop the video, skip this cell.\n",
    "# If you run this cell, please click the \"STOP\" button after rectangle selection.\n",
    "%matplotlib notebook\n",
    "from matplotlib.widgets import RectangleSelector\n",
    "\n",
    "global coord\n",
    "def region_select_callback(eclick, erelease):\n",
    "    global coord\n",
    "    'eclick and erelease are the press and release events'\n",
    "    x1, y1 = eclick.xdata, eclick.ydata\n",
    "    x2, y2 = erelease.xdata, erelease.ydata\n",
    "    x1, y1 = int(x1), int(y1)\n",
    "    x2, y2 = int(x2), int(y2)\n",
    "    title_string = \"Coordinate of the selected rectangle (%d, %d) --> (%d, %d)\\n\" % (x1, y1, x2, y2)\n",
    "    plt.title(title_string)\n",
    "    coord = [x1, x2, y1, y2]\n",
    "    \n",
    "%matplotlib notebook   \n",
    "image_temp = video[0].copy()\n",
    "fig, current_ax = plt.subplots()    # make a new plotting range\n",
    "print(\"\\n click  -->  release\")\n",
    "plt.imshow(image_temp)\n",
    "\n",
    "# drawtype is 'box' or 'line' or 'none'\n",
    "toggle_selector.RS = RectangleSelector(current_ax, region_select_callback,\n",
    "                                    drawtype='box', useblit=True,\n",
    "                                    button=[1, 3],  # don't use middle button\n",
    "                                    minspanx=5, minspany=5,\n",
    "                                    spancoords='pixels',\n",
    "                                    interactive=True)\n",
    "plt.connect('key_press_event', toggle_selector)\n",
    "plt.show()"
   ]
  },
  {
   "cell_type": "code",
   "execution_count": null,
   "metadata": {},
   "outputs": [],
   "source": [
    "# If you do **not** want to crop the video, skip this cell.\n",
    "%matplotlib inline\n",
    "video_orig = video.copy()\n",
    "video_gray_orig = video_gray.copy()\n",
    "x1, x2, y1, y2 = coord\n",
    "video = video_orig[:, y1:y2, x1:x2]\n",
    "video_gray = video_gray_orig[:, y1:y2, x1:x2]\n",
    "plt.imshow(video[0])\n",
    "plt.title(\"Cropped Video\")\n",
    "plt.show()"
   ]
  },
  {
   "cell_type": "markdown",
   "metadata": {},
   "source": [
    "### 1. Find valid region in the field-of-view (FoV)"
   ]
  },
  {
   "cell_type": "code",
   "execution_count": null,
   "metadata": {
    "scrolled": false
   },
   "outputs": [],
   "source": [
    "background = np.median(video_gray, axis=0)\n",
    "valid_region, pix_height, pix_width = find_valid_region(background)\n",
    "plt.figure(figsize=(12,5))\n",
    "plt.subplot(121)\n",
    "plt.imshow(background, cmap='gray')\n",
    "plt.axis('off')\n",
    "plt.title('Background')\n",
    "plt.subplot(122)\n",
    "plt.imshow(valid_region, cmap='gray')\n",
    "plt.axis('off')\n",
    "plt.title('Valid region')\n",
    "plt.show()\n",
    "perpix_dist = ((height / pix_height) + \n",
    "               (width / pix_width)) / 2.0"
   ]
  },
  {
   "cell_type": "markdown",
   "metadata": {},
   "source": [
    "### 2. Process and save the video"
   ]
  },
  {
   "cell_type": "code",
   "execution_count": null,
   "metadata": {
    "scrolled": false
   },
   "outputs": [],
   "source": [
    "all_centers = []\n",
    "center_video = np.zeros(video_gray.shape, dtype=np.uint8)\n",
    "for i in list(range(video_gray.shape[0])):\n",
    "    center = segment_image(video_gray[i]-background, valid_region, relative_brightness=True)\n",
    "    if len(center)==2:\n",
    "        center_video[i, center[0], center[1]] = 1\n",
    "        all_centers.append(center)\n",
    "save_video(video, video_gray, center_video, track=True, \n",
    "           frame_rate=frame_rate*kwargs[\"subsample\"])"
   ]
  },
  {
   "cell_type": "code",
   "execution_count": null,
   "metadata": {
    "scrolled": false
   },
   "outputs": [],
   "source": [
    "%matplotlib inline\n",
    "travel_length = 0\n",
    "temp = np.ones(video_gray[0].shape, dtype=np.uint8)*255\n",
    "temp[0,0] = 0\n",
    "ditance_map = np.zeros(temp.shape, dtype=np.float64)\n",
    "plt.imshow(temp, cmap='gray')\n",
    "for j in range(len(all_centers)-1):\n",
    "    dist = center2dist(all_centers[j], all_centers[j+1])\n",
    "    if dist < 100:\n",
    "        travel_length += dist\n",
    "        ditance_map[all_centers[j][0], all_centers[j][1]] += dist\n",
    "        plt.plot([all_centers[j][1], \n",
    "                  all_centers[j+1][1]], \n",
    "                 [all_centers[j][0],\n",
    "                  all_centers[j+1][0]], 'r', alpha=0.3, linewidth=2)\n",
    "plt.axis('on')\n",
    "plt.title('Track of the animal')\n",
    "plt.show()\n",
    "print(\"Travel length is %.2f pixels, which is %.2f cm.\" % (travel_length, travel_length*perpix_dist))"
   ]
  },
  {
   "cell_type": "markdown",
   "metadata": {},
   "source": [
    "### 3. Interactive measurement"
   ]
  },
  {
   "cell_type": "code",
   "execution_count": null,
   "metadata": {},
   "outputs": [],
   "source": [
    "heatmap = center_video.max(0)\n",
    "heatmap = dilation(heatmap, disk(4))\n",
    "heatmap = np.stack([heatmap, \n",
    "                    np.zeros_like(heatmap),\n",
    "                    np.zeros_like(heatmap)], 2)\n",
    "heatmap = (heatmap*255).astype(np.uint8)\n",
    "heatmap = np.clip(heatmap, a_min=0, a_max=200)\n",
    "heatmap = np.maximum(heatmap, video[0])\n",
    "\n",
    "# Interactive measurement\n",
    "%matplotlib notebook\n",
    "interactive_measure(heatmap, center_video, ditance_map, \n",
    "                    perpix_dist, frate=frame_rate)"
   ]
  },
  {
   "cell_type": "code",
   "execution_count": null,
   "metadata": {},
   "outputs": [],
   "source": [
    "## This cell is intentionally left blank."
   ]
  }
 ],
 "metadata": {
  "kernelspec": {
   "display_name": "Python 3",
   "language": "python",
   "name": "python3"
  },
  "language_info": {
   "codemirror_mode": {
    "name": "ipython",
    "version": 3
   },
   "file_extension": ".py",
   "mimetype": "text/x-python",
   "name": "python",
   "nbconvert_exporter": "python",
   "pygments_lexer": "ipython3",
   "version": "3.7.7"
  }
 },
 "nbformat": 4,
 "nbformat_minor": 2
}
